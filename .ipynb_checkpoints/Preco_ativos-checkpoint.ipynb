{
 "cells": [
  {
   "cell_type": "code",
   "execution_count": 1,
   "metadata": {
    "ExecuteTime": {
     "end_time": "2021-03-29T02:10:04.661804Z",
     "start_time": "2021-03-29T02:10:04.438627Z"
    }
   },
   "outputs": [],
   "source": [
    "#imports\n",
    "import requests\n",
    "from bs4 import BeautifulSoup"
   ]
  },
  {
   "cell_type": "code",
   "execution_count": 2,
   "metadata": {
    "ExecuteTime": {
     "end_time": "2021-03-29T02:10:04.677393Z",
     "start_time": "2021-03-29T02:10:04.661804Z"
    }
   },
   "outputs": [],
   "source": [
    "#setando dicionario com os tickers\n",
    "ticker = {1:'PETR4.SA', 2:'VALE', 3:'BTC-USD'}"
   ]
  },
  {
   "cell_type": "code",
   "execution_count": 3,
   "metadata": {
    "ExecuteTime": {
     "end_time": "2021-03-29T02:10:05.587887Z",
     "start_time": "2021-03-29T02:10:04.681425Z"
    }
   },
   "outputs": [
    {
     "name": "stdout",
     "output_type": "stream",
     "text": [
      "Digite o numero correspondente ao ativo para saber o preco atual\n",
      "1 - Petrobas\n",
      "2 - Vale\n",
      "3 - BTC-USD\n",
      "\n",
      "quer saber a cotacao de qual empresa? 2\n"
     ]
    }
   ],
   "source": [
    "#mostra de painel\n",
    "print('Digite o numero correspondente ao ativo para saber o preco atual')\n",
    "print('1 - Petrobas')\n",
    "print('2 - Vale')\n",
    "print('3 - BTC-USD')\n",
    "n = int(input('\\nquer saber a cotacao de qual empresa? '))\n",
    "n = ticker.get(n)"
   ]
  },
  {
   "cell_type": "code",
   "execution_count": 4,
   "metadata": {
    "ExecuteTime": {
     "end_time": "2021-03-29T02:10:05.602878Z",
     "start_time": "2021-03-29T02:10:05.589916Z"
    }
   },
   "outputs": [],
   "source": [
    "#url definida\n",
    "url = f'https://finance.yahoo.com/quote/{n}?p={n}&.tsrc=fin-srch'"
   ]
  },
  {
   "cell_type": "code",
   "execution_count": 5,
   "metadata": {
    "ExecuteTime": {
     "end_time": "2021-03-29T02:10:06.717945Z",
     "start_time": "2021-03-29T02:10:05.604847Z"
    }
   },
   "outputs": [],
   "source": [
    "#requisicao com a url setada\n",
    "r = requests.get(url)\n",
    "soup = BeautifulSoup(r.text, 'html.parser')"
   ]
  },
  {
   "cell_type": "code",
   "execution_count": 6,
   "metadata": {
    "ExecuteTime": {
     "end_time": "2021-03-29T02:10:06.733232Z",
     "start_time": "2021-03-29T02:10:06.717945Z"
    }
   },
   "outputs": [],
   "source": [
    "#pegando no site com bs4\n",
    "preco = soup.find_all(class_ = \"D(ib) Mend(20px)\")\n",
    "preco = preco[0].next_element.next_element.string"
   ]
  },
  {
   "cell_type": "code",
   "execution_count": 7,
   "metadata": {
    "ExecuteTime": {
     "end_time": "2021-03-29T02:10:06.749371Z",
     "start_time": "2021-03-29T02:10:06.734241Z"
    }
   },
   "outputs": [
    {
     "name": "stdout",
     "output_type": "stream",
     "text": [
      "o preco de VALE é R$16.74\n"
     ]
    }
   ],
   "source": [
    "#saida para o usuario\n",
    "print('o preco de {} é R${}'.format(n, preco))"
   ]
  }
 ],
 "metadata": {
  "kernelspec": {
   "display_name": "Python 3",
   "language": "python",
   "name": "python3"
  },
  "language_info": {
   "codemirror_mode": {
    "name": "ipython",
    "version": 3
   },
   "file_extension": ".py",
   "mimetype": "text/x-python",
   "name": "python",
   "nbconvert_exporter": "python",
   "pygments_lexer": "ipython3",
   "version": "3.7.6"
  },
  "toc": {
   "base_numbering": 1,
   "nav_menu": {},
   "number_sections": true,
   "sideBar": true,
   "skip_h1_title": false,
   "title_cell": "Table of Contents",
   "title_sidebar": "Contents",
   "toc_cell": false,
   "toc_position": {},
   "toc_section_display": true,
   "toc_window_display": false
  },
  "varInspector": {
   "cols": {
    "lenName": 16,
    "lenType": 16,
    "lenVar": 40
   },
   "kernels_config": {
    "python": {
     "delete_cmd_postfix": "",
     "delete_cmd_prefix": "del ",
     "library": "var_list.py",
     "varRefreshCmd": "print(var_dic_list())"
    },
    "r": {
     "delete_cmd_postfix": ") ",
     "delete_cmd_prefix": "rm(",
     "library": "var_list.r",
     "varRefreshCmd": "cat(var_dic_list()) "
    }
   },
   "types_to_exclude": [
    "module",
    "function",
    "builtin_function_or_method",
    "instance",
    "_Feature"
   ],
   "window_display": false
  }
 },
 "nbformat": 4,
 "nbformat_minor": 4
}
