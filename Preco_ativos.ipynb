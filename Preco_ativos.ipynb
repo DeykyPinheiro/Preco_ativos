{
 "cells": [
  {
   "cell_type": "code",
   "execution_count": 1,
   "metadata": {},
   "outputs": [],
   "source": [
    "#imports\n",
    "import requests\n",
    "from bs4 import BeautifulSoup"
   ]
  },
  {
   "cell_type": "code",
   "execution_count": 2,
   "metadata": {},
   "outputs": [
    {
     "name": "stdout",
     "output_type": "stream",
     "text": [
      "Digite o numero do Ativo quer verificar o valor:\n",
      "1 - Petrobras\n",
      "2 - Vale \n",
      "3 - BTC-USD\n",
      "2\n"
     ]
    }
   ],
   "source": [
    "#painel\n",
    "ativo = int(input('Digite o numero do Ativo quer verificar o valor:\\n1 - Petrobras\\n2 - Vale \\n3 - BTC-USD\\n'))\n",
    "\n",
    "if ativo == 1:\n",
    "    url = ('https://finance.yahoo.com/quote/PETR4.SA?p=PETR4.SA&.tsrc=fin-srch')\n",
    "    ticker = ('Petr4')\n",
    "elif ativo == 2:\n",
    "    url =('https://finance.yahoo.com/quote/VALE?p=VALE&.tsrc=fin-srch')\n",
    "    ticker = ('Vale')\n",
    "else:\n",
    "    url = ('https://finance.yahoo.com/quote/BTC-USD?p=BTC-USD&.tsrc=fin-srch')\n",
    "    ticker = ('BTC-USD')"
   ]
  },
  {
   "cell_type": "code",
   "execution_count": 3,
   "metadata": {},
   "outputs": [],
   "source": [
    "#chamar o ativo e salvar em html\n",
    "r = requests.get(url)\n",
    "with open('../ativo.html','w') as a:\n",
    "    a.write(r.text)"
   ]
  },
  {
   "cell_type": "code",
   "execution_count": 4,
   "metadata": {},
   "outputs": [],
   "source": [
    "#abrir o aquivo com o beautifulsoup\n",
    "with open('../ativo.html','r') as ativo:\n",
    "    soup = BeautifulSoup(ativo, 'html.parser')"
   ]
  },
  {
   "cell_type": "code",
   "execution_count": 5,
   "metadata": {},
   "outputs": [
    {
     "name": "stdout",
     "output_type": "stream",
     "text": [
      "o preco de Vale é R$ 11.26\n"
     ]
    }
   ],
   "source": [
    "#recuperando preco atual e exibindo\n",
    "preco_atual = soup.find('div', class_ = 'D(ib) Mend(20px)').next_element.text\n",
    "print('o preco de {} é R$ {}'.format(ticker, preco_atual))"
   ]
  }
 ],
 "metadata": {
  "kernelspec": {
   "display_name": "Python 3",
   "language": "python",
   "name": "python3"
  },
  "language_info": {
   "codemirror_mode": {
    "name": "ipython",
    "version": 3
   },
   "file_extension": ".py",
   "mimetype": "text/x-python",
   "name": "python",
   "nbconvert_exporter": "python",
   "pygments_lexer": "ipython3",
   "version": "3.7.6"
  }
 },
 "nbformat": 4,
 "nbformat_minor": 4
}
